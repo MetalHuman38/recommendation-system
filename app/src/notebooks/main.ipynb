{
 "cells": [
  {
   "cell_type": "code",
   "execution_count": 6,
   "metadata": {},
   "outputs": [
    {
     "name": "stdout",
     "output_type": "stream",
     "text": [
      "Data loaded successfully!\n",
      "Data types of the ratings dataframe:\n",
      "userId         int32\n",
      "movieId        int64\n",
      "rating       float32\n",
      "timestamp      int64\n",
      "dtype: object\n"
     ]
    }
   ],
   "source": [
    "# In Notebooks/main.ipynb\n",
    "import sys\n",
    "import os\n",
    "import numpy as np\n",
    "sys.path.append(os.path.join(os.getcwd(), '..'))\n",
    "from load_data import MovieLensDataLoader\n",
    "\n",
    "MOVIELENS_DIR = '/home/babsdevsys/ml-32m/'\n",
    "\n",
    "loader = MovieLensDataLoader(data_path=MOVIELENS_DIR)\n",
    "\n",
    "# Load the data\n",
    "movies, ratings, tags, links = loader.load_data()\n",
    "ratings['rating'] = ratings['rating'].values.astype(np.float32)\n",
    "ratings['userId'] = ratings['userId'].values.astype(np.int32)\n",
    "print(\"Data types of the ratings dataframe:\")\n",
    "print(ratings.dtypes)\n"
   ]
  },
  {
   "cell_type": "code",
   "execution_count": 4,
   "metadata": {},
   "outputs": [
    {
     "name": "stdout",
     "output_type": "stream",
     "text": [
      "Data types of the movies dataframe:\n",
      "movieId     int32\n",
      "title      object\n",
      "genres     object\n",
      "dtype: object\n"
     ]
    }
   ],
   "source": [
    "movies['movieId'] = movies['movieId'].values.astype(np.int32)\n",
    "print(\"Data types of the movies dataframe:\")\n",
    "print(movies.dtypes)"
   ]
  },
  {
   "cell_type": "code",
   "execution_count": 3,
   "metadata": {},
   "outputs": [
    {
     "name": "stdout",
     "output_type": "stream",
     "text": [
      "Data types of the tags dataframe:\n",
      "userId        int32\n",
      "movieId       int32\n",
      "tag          object\n",
      "timestamp     int64\n",
      "dtype: object\n"
     ]
    }
   ],
   "source": [
    "tags['userId'] = tags['userId'].values.astype(np.int32)\n",
    "tags['movieId'] = tags['movieId'].values.astype(np.int32)\n",
    "print(\"Data types of the tags dataframe:\")\n",
    "print(tags.dtypes)\n"
   ]
  },
  {
   "cell_type": "code",
   "execution_count": 5,
   "metadata": {},
   "outputs": [
    {
     "name": "stdout",
     "output_type": "stream",
     "text": [
      "Data types of the links dataframe:\n",
      "movieId      int32\n",
      "imdbId       int64\n",
      "tmdbId     float64\n",
      "dtype: object\n"
     ]
    }
   ],
   "source": [
    "links['movieId'] = links['movieId'].values.astype(np.int32)\n",
    "print(\"Data types of the links dataframe:\")\n",
    "print(links.dtypes)"
   ]
  },
  {
   "cell_type": "code",
   "execution_count": 10,
   "metadata": {},
   "outputs": [
    {
     "name": "stdout",
     "output_type": "stream",
     "text": [
      "The dimension movies dataframes are: (87585, 3) \n",
      "The dimension of ratings dataframe are: (32000204, 4) \n",
      "The dimension of tags dataframe are: (2000072, 4) \n",
      "The dimension of links dataframe are: (87585, 3)\n"
     ]
    }
   ],
   "source": [
    "# Print The dimension of data loaded\n",
    "print(\"The dimension movies dataframes are:\", movies.shape, \"\\nThe dimension of ratings dataframe are:\", ratings.shape, \"\\nThe dimension of tags dataframe are:\", tags.shape, \"\\nThe dimension of links dataframe are:\", links.shape)\n"
   ]
  }
 ],
 "metadata": {
  "kernelspec": {
   "display_name": "venv",
   "language": "python",
   "name": "python3"
  },
  "language_info": {
   "codemirror_mode": {
    "name": "ipython",
    "version": 3
   },
   "file_extension": ".py",
   "mimetype": "text/x-python",
   "name": "python",
   "nbconvert_exporter": "python",
   "pygments_lexer": "ipython3",
   "version": "3.12.7"
  }
 },
 "nbformat": 4,
 "nbformat_minor": 2
}
